{
  "nbformat": 4,
  "nbformat_minor": 0,
  "metadata": {
    "colab": {
      "provenance": [],
      "authorship_tag": "ABX9TyPzwwUFuKOk1MPwUUelKOTA",
      "include_colab_link": true
    },
    "kernelspec": {
      "name": "python3",
      "display_name": "Python 3"
    },
    "language_info": {
      "name": "python"
    }
  },
  "cells": [
    {
      "cell_type": "markdown",
      "metadata": {
        "id": "view-in-github",
        "colab_type": "text"
      },
      "source": [
        "<a href=\"https://colab.research.google.com/github/Tenientez/Codigos-Clase-CompuI/blob/main/Clase_1.ipynb\" target=\"_parent\"><img src=\"https://colab.research.google.com/assets/colab-badge.svg\" alt=\"Open In Colab\"/></a>"
      ]
    },
    {
      "cell_type": "markdown",
      "source": [
        "# Computación I\n",
        "  Clase 1: Aprendiendo Python"
      ],
      "metadata": {
        "id": "J5ksdlz_jyxO"
      }
    },
    {
      "cell_type": "code",
      "source": [
        "#Definicion variables enteras\n",
        "a=4\n",
        "b=3\n",
        "\n",
        "#Variables flotantes\n",
        "c=2.5\n",
        "\n",
        "#Imprimir\n",
        "print (a)\n",
        "print (a+b)\n",
        "print (c)\n",
        "print (c+b)\n",
        "\n",
        "#Imprimir cadenas de caractéres\n",
        "print (\"Hola Universo!\")\n",
        "\n",
        "#Imprimir caracteres por número\n",
        "d = \" Hola Universo \"\n",
        "print (b*d)\n",
        "\n",
        "#Imprimir variable, solo se usa coma en vez de cout << <<\n",
        "print(\"El valor de b es: \", a)"
      ],
      "metadata": {
        "colab": {
          "base_uri": "https://localhost:8080/"
        },
        "id": "eQ8WJy7skLx7",
        "outputId": "b79a12e5-630c-49cc-8412-a8788d60630e"
      },
      "execution_count": 10,
      "outputs": [
        {
          "output_type": "stream",
          "name": "stdout",
          "text": [
            "4\n",
            "7\n",
            "2.5\n",
            "5.5\n",
            "Hola Universo!\n",
            " Hola Universo  Hola Universo  Hola Universo \n",
            "El valor de b es:  4\n"
          ]
        }
      ]
    },
    {
      "cell_type": "code",
      "source": [
        "#Flujos de entrada\n",
        "\n",
        "num = input(\"Ingresa un numero entero: \")\n",
        "\n",
        "#Type: Ver que tipo de clase tiene (siempre va a ser en srting) si quieres hacer una coersion debes hacerlo manual\n",
        "print (type(num))\n",
        "\n",
        "print (num)"
      ],
      "metadata": {
        "colab": {
          "base_uri": "https://localhost:8080/"
        },
        "id": "egwsY31dnTCH",
        "outputId": "72b94d2d-17b3-4612-be04-7dcedbca0aa9"
      },
      "execution_count": 13,
      "outputs": [
        {
          "output_type": "stream",
          "name": "stdout",
          "text": [
            "Ingresa un numero entero: 6\n",
            "<class 'str'>\n",
            "6\n"
          ]
        }
      ]
    },
    {
      "cell_type": "code",
      "source": [
        "# Strings, cadena de caracteres\n",
        "\n",
        "s = \"Hola Universo\"\n",
        "print (s[0])\n",
        "print (s[-1])\n",
        "\n",
        "#Len() sirve para ver cuantos caracteres tiene nuestra lista\n",
        "print (\"s tiene una dimensión\", len(s))\n",
        "\n",
        "#Ciclos for\n",
        "for i in s:\n",
        "  print (i)\n",
        "\n",
        "#Indexacion, para poner limites a la lista\n",
        "print (s[:5])\n",
        "print (s[5:])\n",
        "\n",
        "#Remplazar\n",
        "print (s.replace(\"Universo\", \"Galaxia\"))\n",
        "\n",
        "#Hacer lista con caracteres separados\n",
        "print(s.split())"
      ],
      "metadata": {
        "colab": {
          "base_uri": "https://localhost:8080/"
        },
        "id": "vwXq2tlMpb8_",
        "outputId": "053533df-c123-424b-8fb4-d4abc5494e01"
      },
      "execution_count": 24,
      "outputs": [
        {
          "output_type": "stream",
          "name": "stdout",
          "text": [
            "H\n",
            "o\n",
            "s tiene una dimensión 13\n",
            "H\n",
            "o\n",
            "l\n",
            "a\n",
            " \n",
            "U\n",
            "n\n",
            "i\n",
            "v\n",
            "e\n",
            "r\n",
            "s\n",
            "o\n",
            "Hola \n",
            "Universo\n",
            "Hola Galaxia\n",
            "['Hola', 'Universo']\n"
          ]
        }
      ]
    },
    {
      "cell_type": "code",
      "source": [
        "z = \"No se que deberia hacer pero debo saber que palabras se reptiten y asi entonces solo escribo a lo loco\"\n",
        "arr = z.split()\n",
        "print (arr)\n",
        "print (arr.count(\"se\"))\n"
      ],
      "metadata": {
        "colab": {
          "base_uri": "https://localhost:8080/"
        },
        "id": "AA5Gqa7kuJdx",
        "outputId": "d9ea9980-496b-43a2-a54b-224d38f1ae9e"
      },
      "execution_count": 34,
      "outputs": [
        {
          "output_type": "stream",
          "name": "stdout",
          "text": [
            "['No', 'se', 'que', 'deberia', 'hacer', 'pero', 'debo', 'saber', 'que', 'palabras', 'se', 'reptiten', 'y', 'asi', 'entonces', 'solo', 'escribo', 'a', 'lo', 'loco']\n",
            "2\n"
          ]
        }
      ]
    },
    {
      "cell_type": "code",
      "source": [
        "#Definir listas\n",
        "\n",
        "#Lista vacía y poner números en sea lista\n",
        "l = list()\n",
        "l.append(1)\n",
        "print(l)\n",
        "\n",
        "#Poner numéros del 1 al 10\n",
        "for i in range(0,10):\n",
        "  l.append(i)\n",
        "print (l)\n",
        "\n",
        "#Imprimir solo algunas\n",
        "print (l[:5])\n",
        "\n",
        "#Buscar elementos en la lista\n",
        "print (100 in l)\n",
        "\n",
        "#Orden inverso\n",
        "l.reverse()\n",
        "print (l)\n"
      ],
      "metadata": {
        "colab": {
          "base_uri": "https://localhost:8080/"
        },
        "id": "T-0thekPw-ja",
        "outputId": "a0d95260-6184-4dfd-c4fc-4fbc4bd66d6b"
      },
      "execution_count": 47,
      "outputs": [
        {
          "output_type": "stream",
          "name": "stdout",
          "text": [
            "[1]\n",
            "[1, 0, 1, 2, 3, 4, 5, 6, 7, 8, 9]\n",
            "[1, 0, 1, 2, 3]\n",
            "False\n",
            "[9, 8, 7, 6, 5, 4, 3, 2, 1, 0, 1]\n"
          ]
        }
      ]
    },
    {
      "cell_type": "code",
      "source": [
        "#Tuplas (No se pueden modificar)\n",
        "\n",
        "a = (1,2,3)\n",
        "print (a[0])"
      ],
      "metadata": {
        "colab": {
          "base_uri": "https://localhost:8080/"
        },
        "id": "OIJrc3C41Dxk",
        "outputId": "a86d612a-06b9-4bc6-dff1-d8eba820d58e"
      },
      "execution_count": 51,
      "outputs": [
        {
          "output_type": "stream",
          "name": "stdout",
          "text": [
            "1\n"
          ]
        }
      ]
    }
  ]
}